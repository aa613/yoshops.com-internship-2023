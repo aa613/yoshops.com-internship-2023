{
 "cells": [
  {
   "cell_type": "markdown",
   "id": "c849942d",
   "metadata": {},
   "source": [
    "# Unsupervised Machine Learning"
   ]
  },
  {
   "cell_type": "markdown",
   "id": "18ce4fca",
   "metadata": {},
   "source": [
    "In the previous topic, we learned supervised machine learning in which models are trained using labeled data under the\n",
    "supervision of training data. But there may be many cases in which we do not have labeled data and need to find the hidden \n",
    "patterns from the given dataset. So, to solve such types of cases in machine learning, we need unsupervised learning techniques."
   ]
  },
  {
   "cell_type": "markdown",
   "id": "d9d09f99",
   "metadata": {},
   "source": [
    "As the name suggests, unsupervised learning is a machine learning technique in which models are not supervised using training\n",
    "dataset. Instead, models itself find the hidden patterns and insights from the given data. It can be compared to learning which\n",
    "takes place in the human brain while learning new things. It can be defined as:"
   ]
  },
  {
   "cell_type": "markdown",
   "id": "1a0d9048",
   "metadata": {},
   "source": [
    "# Unsupervised learning is a type of machine learning in which models are trained using unlabeled dataset and are allowed to act on that data without any supervision.|\n"
   ]
  },
  {
   "cell_type": "markdown",
   "id": "3d6fa7be",
   "metadata": {},
   "source": [
    "Unsupervised learning cannot be directly applied to a regression or classification problem because unlike supervised learning, \n",
    "we have the input data but no corresponding output data. The goal of unsupervised learning is to find the underlying \n",
    "structure of dataset, group that data according to similarities, and represent that dataset in a compressed format."
   ]
  },
  {
   "cell_type": "markdown",
   "id": "63f26b72",
   "metadata": {},
   "source": [
    "Why use Unsupervised Learning?\n",
    "Below are some main reasons which describe the importance of Unsupervised Learning:\n",
    "\n",
    "1)Unsupervised learning is helpful for finding useful insights from the data.\n",
    "2)Unsupervised learning is much similar as a human learns to think by their own experiences, which makes it closer to the real AI.\n",
    "3)Unsupervised learning works on unlabeled and uncategorized data which make unsupervised learning more important.\n",
    "4)In real-world, we do not always have input data with the corresponding output so to solve such cases, we need unsupervised \n",
    "learning."
   ]
  },
  {
   "cell_type": "markdown",
   "id": "6196503d",
   "metadata": {},
   "source": [
    "Clustering: Clustering is a method of grouping the objects into clusters such that objects with most similarities remains\n",
    "    into a group and has less or no similarities with the objects of another group. Cluster analysis finds the commonalities\n",
    "    between the data objects and categorizes them as per the presence and absence of those commonalities.\n",
    "Association: An association rule is an unsupervised learning method which is used for finding the relationships between \n",
    "    variables in the large database. It determines the set of items that occurs together in the dataset. Association rule\n",
    "    makes marketing strategy more effective. Such as people who buy X item (suppose a bread) are also tend to purchase Y \n",
    "    (Butter/Jam) item. A typical example of Association rule is Market Basket Analysis."
   ]
  },
  {
   "cell_type": "markdown",
   "id": "469e3a00",
   "metadata": {},
   "source": [
    "# Unsupervised Machine Learning Algorithms"
   ]
  },
  {
   "cell_type": "code",
   "execution_count": null,
   "id": "8bf7ac81",
   "metadata": {},
   "outputs": [],
   "source": [
    "K-means clustering\n",
    "KNN (k-nearest neighbors)\n",
    "Hierarchal clustering\n",
    "Anomaly detection\n",
    "Neural Networks\n",
    "Principle Component Analysis\n",
    "Independent Component Analysis\n",
    "Apriori algorithm\n",
    "Singular value decomposition"
   ]
  },
  {
   "cell_type": "markdown",
   "id": "bd3d56ae",
   "metadata": {},
   "source": [
    "#Advantages of Unsupervised Learning\n",
    "Unsupervised learning is used for more complex tasks as compared to supervised learning because, in unsupervised learning,\n",
    " we don't have labeled input data.\n",
    "Unsupervised learning is preferable as it is easy to get unlabeled data in comparison to labeled data.\n"
   ]
  },
  {
   "cell_type": "markdown",
   "id": "36a5932e",
   "metadata": {},
   "source": [
    "#Disadvantages of Unsupervised Learning\n",
    "Unsupervised learning is intrinsically more difficult than supervised learning as it does not have corresponding output.\n",
    "The result of the unsupervised learning algorithm might be less accurate as input data is not labeled, and algorithms \n",
    "do not know the exact output in advance."
   ]
  }
 ],
 "metadata": {
  "kernelspec": {
   "display_name": "Python 3 (ipykernel)",
   "language": "python",
   "name": "python3"
  },
  "language_info": {
   "codemirror_mode": {
    "name": "ipython",
    "version": 3
   },
   "file_extension": ".py",
   "mimetype": "text/x-python",
   "name": "python",
   "nbconvert_exporter": "python",
   "pygments_lexer": "ipython3",
   "version": "3.9.13"
  }
 },
 "nbformat": 4,
 "nbformat_minor": 5
}
